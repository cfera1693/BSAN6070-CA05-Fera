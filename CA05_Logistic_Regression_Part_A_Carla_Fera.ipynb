{
  "nbformat": 4,
  "nbformat_minor": 0,
  "metadata": {
    "colab": {
      "name": "CA05 Logistic Regression Part A - Carla Fera.ipynb",
      "provenance": [],
      "collapsed_sections": []
    },
    "kernelspec": {
      "name": "python3",
      "display_name": "Python 3"
    }
  },
  "cells": [
    {
      "cell_type": "markdown",
      "metadata": {
        "id": "cnZcDhHGXy5R",
        "colab_type": "text"
      },
      "source": [
        "# **Logistic Regression**"
      ]
    },
    {
      "cell_type": "markdown",
      "metadata": {
        "id": "P3x-Smg0X3mS",
        "colab_type": "text"
      },
      "source": [
        "## **1. Building the model**"
      ]
    },
    {
      "cell_type": "code",
      "metadata": {
        "id": "uKwgFXIqesbX",
        "colab_type": "code",
        "colab": {}
      },
      "source": [
        "#Import all the necessary packages.\n",
        "import numpy as np\n",
        "import pandas as pd\n",
        "from sklearn import metrics\n",
        "from scipy.stats import uniform\n",
        "import matplotlib.pyplot as plt\n",
        "from sklearn.metrics import log_loss\n",
        "from sklearn.metrics import roc_auc_score\n",
        "from sklearn.metrics import accuracy_score \n",
        "from sklearn.metrics import confusion_matrix\n",
        "from sklearn.metrics import classification_report\n",
        "from sklearn.linear_model import LogisticRegression\n",
        "from sklearn.model_selection import train_test_split\n",
        "from sklearn.model_selection import RandomizedSearchCV"
      ],
      "execution_count": 0,
      "outputs": []
    },
    {
      "cell_type": "code",
      "metadata": {
        "id": "giSWAD36eY4B",
        "colab_type": "code",
        "colab": {}
      },
      "source": [
        "#Read the dataset into a pandas DataFrame. \n",
        "cvd = pd.read_csv('https://github.com/ArinB/CA05-B-Logistic-Regression/raw/master/cvd_data.csv')"
      ],
      "execution_count": 0,
      "outputs": []
    },
    {
      "cell_type": "code",
      "metadata": {
        "id": "EIp6Tjpie6fQ",
        "colab_type": "code",
        "outputId": "99ec66e1-fb65-4b0f-9f9b-e638761198a7",
        "colab": {
          "base_uri": "https://localhost:8080/",
          "height": 419
        }
      },
      "source": [
        "#Display the dataset. \n",
        "cvd"
      ],
      "execution_count": 0,
      "outputs": [
        {
          "output_type": "execute_result",
          "data": {
            "text/html": [
              "<div>\n",
              "<style scoped>\n",
              "    .dataframe tbody tr th:only-of-type {\n",
              "        vertical-align: middle;\n",
              "    }\n",
              "\n",
              "    .dataframe tbody tr th {\n",
              "        vertical-align: top;\n",
              "    }\n",
              "\n",
              "    .dataframe thead th {\n",
              "        text-align: right;\n",
              "    }\n",
              "</style>\n",
              "<table border=\"1\" class=\"dataframe\">\n",
              "  <thead>\n",
              "    <tr style=\"text-align: right;\">\n",
              "      <th></th>\n",
              "      <th>cvd_4types</th>\n",
              "      <th>age_s1</th>\n",
              "      <th>race</th>\n",
              "      <th>educat</th>\n",
              "      <th>mstat</th>\n",
              "      <th>hip</th>\n",
              "      <th>neck20</th>\n",
              "      <th>waist</th>\n",
              "      <th>av_weight_kg</th>\n",
              "      <th>cgpkyr</th>\n",
              "      <th>tea15</th>\n",
              "      <th>srhype</th>\n",
              "      <th>parrptdiab</th>\n",
              "      <th>bend25</th>\n",
              "      <th>happy25</th>\n",
              "      <th>tired25</th>\n",
              "      <th>hlthlm25</th>\n",
              "    </tr>\n",
              "  </thead>\n",
              "  <tbody>\n",
              "    <tr>\n",
              "      <th>0</th>\n",
              "      <td>0</td>\n",
              "      <td>54</td>\n",
              "      <td>1</td>\n",
              "      <td>2</td>\n",
              "      <td>1</td>\n",
              "      <td>110.0</td>\n",
              "      <td>40.0</td>\n",
              "      <td>108.0</td>\n",
              "      <td>87.5</td>\n",
              "      <td>34.0</td>\n",
              "      <td>0</td>\n",
              "      <td>1</td>\n",
              "      <td>0</td>\n",
              "      <td>1</td>\n",
              "      <td>2</td>\n",
              "      <td>3</td>\n",
              "      <td>4</td>\n",
              "    </tr>\n",
              "    <tr>\n",
              "      <th>1</th>\n",
              "      <td>0</td>\n",
              "      <td>56</td>\n",
              "      <td>3</td>\n",
              "      <td>2</td>\n",
              "      <td>1</td>\n",
              "      <td>113.0</td>\n",
              "      <td>34.0</td>\n",
              "      <td>107.0</td>\n",
              "      <td>83.5</td>\n",
              "      <td>0.0</td>\n",
              "      <td>0</td>\n",
              "      <td>0</td>\n",
              "      <td>0</td>\n",
              "      <td>2</td>\n",
              "      <td>2</td>\n",
              "      <td>1</td>\n",
              "      <td>3</td>\n",
              "    </tr>\n",
              "    <tr>\n",
              "      <th>2</th>\n",
              "      <td>0</td>\n",
              "      <td>54</td>\n",
              "      <td>1</td>\n",
              "      <td>3</td>\n",
              "      <td>1</td>\n",
              "      <td>110.0</td>\n",
              "      <td>44.5</td>\n",
              "      <td>105.0</td>\n",
              "      <td>86.2</td>\n",
              "      <td>49.5</td>\n",
              "      <td>0</td>\n",
              "      <td>0</td>\n",
              "      <td>0</td>\n",
              "      <td>3</td>\n",
              "      <td>2</td>\n",
              "      <td>6</td>\n",
              "      <td>4</td>\n",
              "    </tr>\n",
              "    <tr>\n",
              "      <th>3</th>\n",
              "      <td>0</td>\n",
              "      <td>54</td>\n",
              "      <td>1</td>\n",
              "      <td>3</td>\n",
              "      <td>1</td>\n",
              "      <td>129.0</td>\n",
              "      <td>42.5</td>\n",
              "      <td>110.0</td>\n",
              "      <td>89.1</td>\n",
              "      <td>0.0</td>\n",
              "      <td>0</td>\n",
              "      <td>0</td>\n",
              "      <td>0</td>\n",
              "      <td>3</td>\n",
              "      <td>2</td>\n",
              "      <td>1</td>\n",
              "      <td>3</td>\n",
              "    </tr>\n",
              "    <tr>\n",
              "      <th>4</th>\n",
              "      <td>0</td>\n",
              "      <td>51</td>\n",
              "      <td>3</td>\n",
              "      <td>2</td>\n",
              "      <td>1</td>\n",
              "      <td>122.0</td>\n",
              "      <td>37.0</td>\n",
              "      <td>113.0</td>\n",
              "      <td>81.3</td>\n",
              "      <td>0.0</td>\n",
              "      <td>0</td>\n",
              "      <td>0</td>\n",
              "      <td>0</td>\n",
              "      <td>2</td>\n",
              "      <td>1</td>\n",
              "      <td>1</td>\n",
              "      <td>2</td>\n",
              "    </tr>\n",
              "    <tr>\n",
              "      <th>...</th>\n",
              "      <td>...</td>\n",
              "      <td>...</td>\n",
              "      <td>...</td>\n",
              "      <td>...</td>\n",
              "      <td>...</td>\n",
              "      <td>...</td>\n",
              "      <td>...</td>\n",
              "      <td>...</td>\n",
              "      <td>...</td>\n",
              "      <td>...</td>\n",
              "      <td>...</td>\n",
              "      <td>...</td>\n",
              "      <td>...</td>\n",
              "      <td>...</td>\n",
              "      <td>...</td>\n",
              "      <td>...</td>\n",
              "      <td>...</td>\n",
              "    </tr>\n",
              "    <tr>\n",
              "      <th>3237</th>\n",
              "      <td>1</td>\n",
              "      <td>66</td>\n",
              "      <td>1</td>\n",
              "      <td>2</td>\n",
              "      <td>1</td>\n",
              "      <td>95.0</td>\n",
              "      <td>41.5</td>\n",
              "      <td>99.0</td>\n",
              "      <td>88.2</td>\n",
              "      <td>0.0</td>\n",
              "      <td>0</td>\n",
              "      <td>1</td>\n",
              "      <td>0</td>\n",
              "      <td>2</td>\n",
              "      <td>2</td>\n",
              "      <td>5</td>\n",
              "      <td>4</td>\n",
              "    </tr>\n",
              "    <tr>\n",
              "      <th>3238</th>\n",
              "      <td>1</td>\n",
              "      <td>54</td>\n",
              "      <td>1</td>\n",
              "      <td>3</td>\n",
              "      <td>1</td>\n",
              "      <td>99.0</td>\n",
              "      <td>34.9</td>\n",
              "      <td>99.0</td>\n",
              "      <td>83.3</td>\n",
              "      <td>30.0</td>\n",
              "      <td>0</td>\n",
              "      <td>0</td>\n",
              "      <td>0</td>\n",
              "      <td>3</td>\n",
              "      <td>3</td>\n",
              "      <td>3</td>\n",
              "      <td>4</td>\n",
              "    </tr>\n",
              "    <tr>\n",
              "      <th>3239</th>\n",
              "      <td>1</td>\n",
              "      <td>55</td>\n",
              "      <td>1</td>\n",
              "      <td>4</td>\n",
              "      <td>1</td>\n",
              "      <td>101.0</td>\n",
              "      <td>37.0</td>\n",
              "      <td>91.0</td>\n",
              "      <td>75.2</td>\n",
              "      <td>0.0</td>\n",
              "      <td>0</td>\n",
              "      <td>0</td>\n",
              "      <td>0</td>\n",
              "      <td>3</td>\n",
              "      <td>2</td>\n",
              "      <td>5</td>\n",
              "      <td>4</td>\n",
              "    </tr>\n",
              "    <tr>\n",
              "      <th>3240</th>\n",
              "      <td>1</td>\n",
              "      <td>53</td>\n",
              "      <td>1</td>\n",
              "      <td>2</td>\n",
              "      <td>1</td>\n",
              "      <td>98.0</td>\n",
              "      <td>39.0</td>\n",
              "      <td>93.0</td>\n",
              "      <td>79.0</td>\n",
              "      <td>0.0</td>\n",
              "      <td>0</td>\n",
              "      <td>0</td>\n",
              "      <td>0</td>\n",
              "      <td>2</td>\n",
              "      <td>2</td>\n",
              "      <td>5</td>\n",
              "      <td>4</td>\n",
              "    </tr>\n",
              "    <tr>\n",
              "      <th>3241</th>\n",
              "      <td>1</td>\n",
              "      <td>54</td>\n",
              "      <td>1</td>\n",
              "      <td>2</td>\n",
              "      <td>1</td>\n",
              "      <td>109.0</td>\n",
              "      <td>48.6</td>\n",
              "      <td>112.0</td>\n",
              "      <td>93.5</td>\n",
              "      <td>39.0</td>\n",
              "      <td>0</td>\n",
              "      <td>1</td>\n",
              "      <td>0</td>\n",
              "      <td>3</td>\n",
              "      <td>2</td>\n",
              "      <td>5</td>\n",
              "      <td>4</td>\n",
              "    </tr>\n",
              "  </tbody>\n",
              "</table>\n",
              "<p>3242 rows × 17 columns</p>\n",
              "</div>"
            ],
            "text/plain": [
              "      cvd_4types  age_s1  race  educat  ...  bend25  happy25  tired25  hlthlm25\n",
              "0              0      54     1       2  ...       1        2        3         4\n",
              "1              0      56     3       2  ...       2        2        1         3\n",
              "2              0      54     1       3  ...       3        2        6         4\n",
              "3              0      54     1       3  ...       3        2        1         3\n",
              "4              0      51     3       2  ...       2        1        1         2\n",
              "...          ...     ...   ...     ...  ...     ...      ...      ...       ...\n",
              "3237           1      66     1       2  ...       2        2        5         4\n",
              "3238           1      54     1       3  ...       3        3        3         4\n",
              "3239           1      55     1       4  ...       3        2        5         4\n",
              "3240           1      53     1       2  ...       2        2        5         4\n",
              "3241           1      54     1       2  ...       3        2        5         4\n",
              "\n",
              "[3242 rows x 17 columns]"
            ]
          },
          "metadata": {
            "tags": []
          },
          "execution_count": 3
        }
      ]
    },
    {
      "cell_type": "code",
      "metadata": {
        "id": "d3M1ft4CdQZu",
        "colab_type": "code",
        "outputId": "d6d9c67d-a74a-4dea-ed8d-b53a194a95a6",
        "colab": {
          "base_uri": "https://localhost:8080/",
          "height": 34
        }
      },
      "source": [
        "#Check class distribution.\n",
        "cvd[cvd['cvd_4types']==1]['cvd_4types'].count()"
      ],
      "execution_count": 0,
      "outputs": [
        {
          "output_type": "execute_result",
          "data": {
            "text/plain": [
              "1913"
            ]
          },
          "metadata": {
            "tags": []
          },
          "execution_count": 29
        }
      ]
    },
    {
      "cell_type": "code",
      "metadata": {
        "id": "xdYySxGHdkJt",
        "colab_type": "code",
        "outputId": "666cb104-04bb-44d0-9f54-61176c182c15",
        "colab": {
          "base_uri": "https://localhost:8080/",
          "height": 34
        }
      },
      "source": [
        "cvd[cvd['cvd_4types']==0]['cvd_4types'].count()"
      ],
      "execution_count": 0,
      "outputs": [
        {
          "output_type": "execute_result",
          "data": {
            "text/plain": [
              "1329"
            ]
          },
          "metadata": {
            "tags": []
          },
          "execution_count": 30
        }
      ]
    },
    {
      "cell_type": "code",
      "metadata": {
        "id": "P6EaGZlskQG3",
        "colab_type": "code",
        "outputId": "083d3522-ee9d-4e30-a205-d6dacf9df8f1",
        "colab": {
          "base_uri": "https://localhost:8080/",
          "height": 323
        }
      },
      "source": [
        "#Check whether there is any null value in the dataset in order to do some cleaning if necessary. \n",
        "cvd.isnull().sum()"
      ],
      "execution_count": 0,
      "outputs": [
        {
          "output_type": "execute_result",
          "data": {
            "text/plain": [
              "cvd_4types      0\n",
              "age_s1          0\n",
              "race            0\n",
              "educat          0\n",
              "mstat           0\n",
              "hip             0\n",
              "neck20          0\n",
              "waist           0\n",
              "av_weight_kg    0\n",
              "cgpkyr          0\n",
              "tea15           0\n",
              "srhype          0\n",
              "parrptdiab      0\n",
              "bend25          0\n",
              "happy25         0\n",
              "tired25         0\n",
              "hlthlm25        0\n",
              "dtype: int64"
            ]
          },
          "metadata": {
            "tags": []
          },
          "execution_count": 4
        }
      ]
    },
    {
      "cell_type": "code",
      "metadata": {
        "id": "hv0E6DF2jLSr",
        "colab_type": "code",
        "colab": {}
      },
      "source": [
        "#Divide the data into dependent and independent variables and get dummies for the correspoding categorical variables. Then do a train_test_split to split the dataset into training and test.\n",
        "X=cvd.iloc[:,1:]\n",
        "y=cvd['cvd_4types']\n",
        "X=pd.get_dummies(X,columns=['race','educat','mstat','bend25','happy25','tired25','hlthlm25'],drop_first=True)\n",
        "X_train , X_test, y_train, y_test = train_test_split(X, y, test_size=0.2, random_state=42)"
      ],
      "execution_count": 0,
      "outputs": []
    },
    {
      "cell_type": "code",
      "metadata": {
        "id": "yy_-ZO_6qJ8x",
        "colab_type": "code",
        "colab": {}
      },
      "source": [
        "#Fit the data into the model and predict \"y\" or CVD Risk. \n",
        "clf=LogisticRegression()\n",
        "fitted_model=clf.fit(X_train,y_train)\n",
        "y_pred=clf.predict(X_test)"
      ],
      "execution_count": 0,
      "outputs": []
    },
    {
      "cell_type": "markdown",
      "metadata": {
        "id": "vbwuoV_OYRqO",
        "colab_type": "text"
      },
      "source": [
        "## **4.Finding the best model**"
      ]
    },
    {
      "cell_type": "markdown",
      "metadata": {
        "id": "ZK7vd1NaeqZf",
        "colab_type": "text"
      },
      "source": [
        "https://scikit-learn.org/stable/modules/generated/sklearn.model_selection.RandomizedSearchCV.html"
      ]
    },
    {
      "cell_type": "code",
      "metadata": {
        "id": "jKFYpPjyUUWD",
        "colab_type": "code",
        "colab": {}
      },
      "source": [
        "#Implement Randomized Search to find the best hyper-parameters and build the best model. \n",
        "distributions = dict(C=uniform(loc=0, scale=4),penalty=['l2', 'l1'],solver=['saga','sag','lbfgs','newton-cg','liblinear'])\n",
        "clf = RandomizedSearchCV(clf, distributions, random_state=0,cv=5)\n",
        "search = clf.fit(X_train,y_train)"
      ],
      "execution_count": 0,
      "outputs": []
    },
    {
      "cell_type": "code",
      "metadata": {
        "id": "p-UUJrRNqbP4",
        "colab_type": "code",
        "outputId": "f3a88cdd-20f2-478d-f71c-67f651b98e96",
        "colab": {
          "base_uri": "https://localhost:8080/",
          "height": 34
        }
      },
      "source": [
        "#This are the best hyper-parameters. \n",
        "search.best_params_"
      ],
      "execution_count": 0,
      "outputs": [
        {
          "output_type": "execute_result",
          "data": {
            "text/plain": [
              "{'C': 2.4942547871438894, 'penalty': 'l2', 'solver': 'liblinear'}"
            ]
          },
          "metadata": {
            "tags": []
          },
          "execution_count": 8
        }
      ]
    },
    {
      "cell_type": "code",
      "metadata": {
        "id": "d72zbQMNQljA",
        "colab_type": "code",
        "colab": {}
      },
      "source": [
        "#Fit the data into the model and predict \"y\" or CVD Risk. Include the previous calculated hyperparameters. \n",
        "clf=LogisticRegression(C=2.4942547871438894,solver='liblinear',penalty='l2',random_state=0)\n",
        "fitted_model=clf.fit(X_train,y_train)\n",
        "y_pred=clf.predict(X_test)"
      ],
      "execution_count": 0,
      "outputs": []
    },
    {
      "cell_type": "code",
      "metadata": {
        "id": "zb7OnXjyZ9cr",
        "colab_type": "code",
        "outputId": "890f009e-c4cb-4b9d-9e1e-ddb5daf8d69a",
        "colab": {
          "base_uri": "https://localhost:8080/",
          "height": 34
        }
      },
      "source": [
        "#Print the accuracy score of the model.\n",
        "accuracy_score(y_test,y_pred)"
      ],
      "execution_count": 0,
      "outputs": [
        {
          "output_type": "execute_result",
          "data": {
            "text/plain": [
              "0.6825885978428351"
            ]
          },
          "metadata": {
            "tags": []
          },
          "execution_count": 10
        }
      ]
    },
    {
      "cell_type": "code",
      "metadata": {
        "id": "r7Z7Aj03aDjO",
        "colab_type": "code",
        "outputId": "c4ffdb57-05e2-4fe7-85a5-e690283a1e19",
        "colab": {
          "base_uri": "https://localhost:8080/",
          "height": 51
        }
      },
      "source": [
        "#Prin the confusion matrix.\n",
        "confusion_matrix(y_test,y_pred)"
      ],
      "execution_count": 0,
      "outputs": [
        {
          "output_type": "execute_result",
          "data": {
            "text/plain": [
              "array([[134, 148],\n",
              "       [ 58, 309]])"
            ]
          },
          "metadata": {
            "tags": []
          },
          "execution_count": 11
        }
      ]
    },
    {
      "cell_type": "code",
      "metadata": {
        "id": "opEQ7M2BaGnO",
        "colab_type": "code",
        "outputId": "70c2baac-7cc7-4cfc-a828-b47fc7c530df",
        "colab": {
          "base_uri": "https://localhost:8080/",
          "height": 170
        }
      },
      "source": [
        "#Print the classification report, which contains precision, recall and f1-score. \n",
        "print(classification_report(y_test,y_pred))"
      ],
      "execution_count": 0,
      "outputs": [
        {
          "output_type": "stream",
          "text": [
            "              precision    recall  f1-score   support\n",
            "\n",
            "           0       0.70      0.48      0.57       282\n",
            "           1       0.68      0.84      0.75       367\n",
            "\n",
            "    accuracy                           0.68       649\n",
            "   macro avg       0.69      0.66      0.66       649\n",
            "weighted avg       0.69      0.68      0.67       649\n",
            "\n"
          ],
          "name": "stdout"
        }
      ]
    },
    {
      "cell_type": "code",
      "metadata": {
        "id": "V9VJOlVLaNBu",
        "colab_type": "code",
        "outputId": "57b0e850-a9a2-4aec-e179-1f68c4352328",
        "colab": {
          "base_uri": "https://localhost:8080/",
          "height": 34
        }
      },
      "source": [
        "#Calculate log loss score. \n",
        "log_loss(y_test,y_pred)"
      ],
      "execution_count": 0,
      "outputs": [
        {
          "output_type": "execute_result",
          "data": {
            "text/plain": [
              "10.963183787012742"
            ]
          },
          "metadata": {
            "tags": []
          },
          "execution_count": 13
        }
      ]
    },
    {
      "cell_type": "code",
      "metadata": {
        "id": "qxA4Rb7zaRk3",
        "colab_type": "code",
        "outputId": "b9823443-ab06-4fb5-9747-52e5b57baeca",
        "colab": {
          "base_uri": "https://localhost:8080/",
          "height": 34
        }
      },
      "source": [
        "#Calculate roc curve.\n",
        "fpr, tpr, thresholds = metrics.roc_curve(y_test, y_pred)\n",
        "metrics.auc(fpr, tpr)"
      ],
      "execution_count": 0,
      "outputs": [
        {
          "output_type": "execute_result",
          "data": {
            "text/plain": [
              "0.6585695789127872"
            ]
          },
          "metadata": {
            "tags": []
          },
          "execution_count": 14
        }
      ]
    },
    {
      "cell_type": "code",
      "metadata": {
        "id": "q6qxRNPyaZzJ",
        "colab_type": "code",
        "outputId": "70baa19f-6fc4-4dd5-c283-c7654a80f370",
        "colab": {
          "base_uri": "https://localhost:8080/",
          "height": 283
        }
      },
      "source": [
        "#Plot roc curve. \n",
        "plt.plot(fpr, tpr, label = 'Prediction')\n",
        "plt.plot([0, 1], [0, 1], label = 'Random')\n",
        "plt.xlim([0, 1])\n",
        "plt.ylim([0, 1])\n",
        "plt.ylabel('True Positive Rate')\n",
        "plt.xlabel('False Positive Rate')\n",
        "plt.legend()\n",
        "plt.show()"
      ],
      "execution_count": 0,
      "outputs": [
        {
          "output_type": "display_data",
          "data": {
            "image/png": "[encoded data removed]",
            "text/plain": [
              "<Figure size 432x288 with 1 Axes>"
            ]
          },
          "metadata": {
            "tags": []
          }
        }
      ]
    },
    {
      "cell_type": "markdown",
      "metadata": {
        "id": "TX2AAN9dabrL",
        "colab_type": "text"
      },
      "source": [
        "However, I found a better model without the RandomizedSearchCV, which has better performance. This is the model we are going to use for the feature importance."
      ]
    },
    {
      "cell_type": "code",
      "metadata": {
        "id": "mIuUSpcroDwO",
        "colab_type": "code",
        "colab": {}
      },
      "source": [
        "#Fit the data into the model and predict \"y\" or CVD Risk.\n",
        "clf=LogisticRegression(C=0.6,solver='liblinear')\n",
        "fitted_model=clf.fit(X_train,y_train)\n",
        "y_pred=clf.predict(X_test)"
      ],
      "execution_count": 0,
      "outputs": []
    },
    {
      "cell_type": "code",
      "metadata": {
        "id": "2PX1QaRQrZlU",
        "colab_type": "code",
        "outputId": "4eaad293-01d5-4782-b764-d4f91357cddc",
        "colab": {
          "base_uri": "https://localhost:8080/",
          "height": 34
        }
      },
      "source": [
        "#Print the accuracy score of the model.\n",
        "accuracy_score(y_test,y_pred)"
      ],
      "execution_count": 0,
      "outputs": [
        {
          "output_type": "execute_result",
          "data": {
            "text/plain": [
              "0.6856702619414484"
            ]
          },
          "metadata": {
            "tags": []
          },
          "execution_count": 17
        }
      ]
    },
    {
      "cell_type": "code",
      "metadata": {
        "id": "-C6n5JhAyMCU",
        "colab_type": "code",
        "outputId": "6a002546-fea6-4d5c-f34e-ac0afa674ae6",
        "colab": {
          "base_uri": "https://localhost:8080/",
          "height": 51
        }
      },
      "source": [
        "#Prin the confusion matrix.\n",
        "confusion_matrix(y_test,y_pred)"
      ],
      "execution_count": 0,
      "outputs": [
        {
          "output_type": "execute_result",
          "data": {
            "text/plain": [
              "array([[136, 146],\n",
              "       [ 58, 309]])"
            ]
          },
          "metadata": {
            "tags": []
          },
          "execution_count": 18
        }
      ]
    },
    {
      "cell_type": "code",
      "metadata": {
        "id": "y0_FbSi_yZRh",
        "colab_type": "code",
        "outputId": "d1f4bf24-411f-46eb-b3ee-ea5e3fa6cf1b",
        "colab": {
          "base_uri": "https://localhost:8080/",
          "height": 170
        }
      },
      "source": [
        "#Print the classification report, which contains precision, recall and f1-score. \n",
        "print(classification_report(y_test,y_pred))"
      ],
      "execution_count": 0,
      "outputs": [
        {
          "output_type": "stream",
          "text": [
            "              precision    recall  f1-score   support\n",
            "\n",
            "           0       0.70      0.48      0.57       282\n",
            "           1       0.68      0.84      0.75       367\n",
            "\n",
            "    accuracy                           0.69       649\n",
            "   macro avg       0.69      0.66      0.66       649\n",
            "weighted avg       0.69      0.69      0.67       649\n",
            "\n"
          ],
          "name": "stdout"
        }
      ]
    },
    {
      "cell_type": "code",
      "metadata": {
        "id": "COG8E0K__2cW",
        "colab_type": "code",
        "outputId": "d68e2559-c4d4-4489-b852-10ee89bb7bce",
        "colab": {
          "base_uri": "https://localhost:8080/",
          "height": 34
        }
      },
      "source": [
        "#Calculate log loss score. \n",
        "log_loss(y_test,y_pred)"
      ],
      "execution_count": 0,
      "outputs": [
        {
          "output_type": "execute_result",
          "data": {
            "text/plain": [
              "10.856744415695822"
            ]
          },
          "metadata": {
            "tags": []
          },
          "execution_count": 20
        }
      ]
    },
    {
      "cell_type": "code",
      "metadata": {
        "id": "-7s7UKr4yjs3",
        "colab_type": "code",
        "outputId": "d544e231-e82f-465b-decf-de8baa186a3b",
        "colab": {
          "base_uri": "https://localhost:8080/",
          "height": 34
        }
      },
      "source": [
        "#Calculate roc curve.\n",
        "fpr, tpr, thresholds = metrics.roc_curve(y_test, y_pred)\n",
        "metrics.auc(fpr, tpr)"
      ],
      "execution_count": 0,
      "outputs": [
        {
          "output_type": "execute_result",
          "data": {
            "text/plain": [
              "0.6621156782035674"
            ]
          },
          "metadata": {
            "tags": []
          },
          "execution_count": 21
        }
      ]
    },
    {
      "cell_type": "code",
      "metadata": {
        "id": "KdWfaKCby0mN",
        "colab_type": "code",
        "outputId": "ff2de3f1-fe7c-4937-8c70-febd05701f6a",
        "colab": {
          "base_uri": "https://localhost:8080/",
          "height": 283
        }
      },
      "source": [
        "#Plot roc curve. \n",
        "plt.plot(fpr, tpr, label = 'Prediction')\n",
        "plt.plot([0, 1], [0, 1], label = 'Random')\n",
        "plt.xlim([0, 1])\n",
        "plt.ylim([0, 1])\n",
        "plt.ylabel('True Positive Rate')\n",
        "plt.xlabel('False Positive Rate')\n",
        "plt.legend()\n",
        "plt.show()"
      ],
      "execution_count": 0,
      "outputs": [
        {
          "output_type": "display_data",
          "data": {
            "image/png": "[encoded data removed]",
            "text/plain": [
              "<Figure size 432x288 with 1 Axes>"
            ]
          },
          "metadata": {
            "tags": []
          }
        }
      ]
    },
    {
      "cell_type": "markdown",
      "metadata": {
        "id": "2dMj6Rh_bJPs",
        "colab_type": "text"
      },
      "source": [
        "# **3. Feature Importance**"
      ]
    },
    {
      "cell_type": "markdown",
      "metadata": {
        "id": "tQzroAEaelCf",
        "colab_type": "text"
      },
      "source": [
        "https://towardsdatascience.com/a-look-into-feature-importance-in-logistic-regression-models-a4aa970f9b0f"
      ]
    },
    {
      "cell_type": "code",
      "metadata": {
        "id": "oHgjMdKpm2k-",
        "colab_type": "code",
        "outputId": "117e687a-4f7a-4532-eaba-b6a404580ac2",
        "colab": {
          "base_uri": "https://localhost:8080/",
          "height": 102
        }
      },
      "source": [
        "# The dataset is \"standarized\" to calculate coefficients.\n",
        "clf.fit(X_train/np.std(X_train,0),y_train)"
      ],
      "execution_count": 0,
      "outputs": [
        {
          "output_type": "execute_result",
          "data": {
            "text/plain": [
              "LogisticRegression(C=0.6, class_weight=None, dual=False, fit_intercept=True,\n",
              "                   intercept_scaling=1, l1_ratio=None, max_iter=100,\n",
              "                   multi_class='auto', n_jobs=None, penalty='l2',\n",
              "                   random_state=None, solver='liblinear', tol=0.0001, verbose=0,\n",
              "                   warm_start=False)"
            ]
          },
          "metadata": {
            "tags": []
          },
          "execution_count": 23
        }
      ]
    },
    {
      "cell_type": "code",
      "metadata": {
        "id": "Svo1hCFOpySh",
        "colab_type": "code",
        "outputId": "f76ddffe-75f0-45ba-89d0-1f6a55d72037",
        "colab": {
          "base_uri": "https://localhost:8080/",
          "height": 85
        }
      },
      "source": [
        "#We check which coefficients are positive and which ones are negative. Trues are positive and False are negative.\n",
        "np.round(clf.coef_,decimals=2)>0"
      ],
      "execution_count": 0,
      "outputs": [
        {
          "output_type": "execute_result",
          "data": {
            "text/plain": [
              "array([[False, False, False,  True, False, False, False,  True,  True,\n",
              "        False, False, False, False,  True, False, False, False,  True,\n",
              "         True,  True,  True,  True,  True,  True,  True, False, False,\n",
              "        False, False, False,  True,  True,  True, False]])"
            ]
          },
          "metadata": {
            "tags": []
          },
          "execution_count": 13
        }
      ]
    },
    {
      "cell_type": "code",
      "metadata": {
        "id": "E8UGdYDYrPUk",
        "colab_type": "code",
        "outputId": "34e94866-5f83-4cb5-ace3-6aae9565eb97",
        "colab": {
          "base_uri": "https://localhost:8080/",
          "height": 136
        }
      },
      "source": [
        "#We check our columns and compare with the previous boolean array.\n",
        "X_train.columns"
      ],
      "execution_count": 0,
      "outputs": [
        {
          "output_type": "execute_result",
          "data": {
            "text/plain": [
              "Index(['age_s1', 'hip', 'neck20', 'waist', 'av_weight_kg', 'cgpkyr', 'tea15',\n",
              "       'srhype', 'parrptdiab', 'race_2', 'race_3', 'educat_2', 'educat_3',\n",
              "       'educat_4', 'mstat_2', 'mstat_3', 'mstat_4', 'mstat_8', 'bend25_2',\n",
              "       'bend25_3', 'happy25_2', 'happy25_3', 'happy25_4', 'happy25_5',\n",
              "       'happy25_6', 'tired25_2', 'tired25_3', 'tired25_4', 'tired25_5',\n",
              "       'tired25_6', 'hlthlm25_2', 'hlthlm25_3', 'hlthlm25_4', 'hlthlm25_5'],\n",
              "      dtype='object')"
            ]
          },
          "metadata": {
            "tags": []
          },
          "execution_count": 14
        }
      ]
    },
    {
      "cell_type": "code",
      "metadata": {
        "id": "gdlaksCqxBTP",
        "colab_type": "code",
        "outputId": "ac1957c2-935c-4ac9-851f-11f1e3cbb32b",
        "colab": {
          "base_uri": "https://localhost:8080/",
          "height": 136
        }
      },
      "source": [
        "#Import RFE, which is a feature selection method that fits a model and removes the weakest feature (or features) until the specified number of features is reached.\n",
        "from sklearn.feature_selection import RFE\n",
        "predictors=X_train\n",
        "selector=RFE(clf,n_features_to_select=1)\n",
        "selector.fit(predictors,y_train)"
      ],
      "execution_count": 0,
      "outputs": [
        {
          "output_type": "execute_result",
          "data": {
            "text/plain": [
              "RFE(estimator=LogisticRegression(C=0.6, class_weight=None, dual=False,\n",
              "                                 fit_intercept=True, intercept_scaling=1,\n",
              "                                 l1_ratio=None, max_iter=100,\n",
              "                                 multi_class='auto', n_jobs=None, penalty='l2',\n",
              "                                 random_state=None, solver='liblinear',\n",
              "                                 tol=0.0001, verbose=0, warm_start=False),\n",
              "    n_features_to_select=1, step=1, verbose=0)"
            ]
          },
          "metadata": {
            "tags": []
          },
          "execution_count": 15
        }
      ]
    },
    {
      "cell_type": "code",
      "metadata": {
        "id": "BHHVqAs1xYcO",
        "colab_type": "code",
        "outputId": "705be219-2783-46cb-a29c-65497db25ae1",
        "colab": {
          "base_uri": "https://localhost:8080/",
          "height": 51
        }
      },
      "source": [
        "#We extract the ranking of each of the features.\n",
        "order=selector.ranking_\n",
        "order"
      ],
      "execution_count": 0,
      "outputs": [
        {
          "output_type": "execute_result",
          "data": {
            "text/plain": [
              "array([33, 26, 27, 24, 31, 34, 22, 29,  7,  6,  2, 16, 17,  5,  8, 12,  3,\n",
              "        4, 15, 23, 20, 21, 25, 18, 30, 13, 14, 32, 19, 28, 11, 10,  9,  1])"
            ]
          },
          "metadata": {
            "tags": []
          },
          "execution_count": 33
        }
      ]
    },
    {
      "cell_type": "code",
      "metadata": {
        "id": "gcNxXIkdzYZf",
        "colab_type": "code",
        "outputId": "0070bd21-ad39-49f5-8048-1c1713857cee",
        "colab": {
          "base_uri": "https://localhost:8080/",
          "height": 595
        }
      },
      "source": [
        "#Finally, we print the corresponding features ranking ordered from highest to lowest. \n",
        "feature_ranks={}\n",
        "for index,i in enumerate(order):\n",
        "  feature_ranks[index+1]=X_train.columns[index]\n",
        "feature_ranks"
      ],
      "execution_count": 0,
      "outputs": [
        {
          "output_type": "execute_result",
          "data": {
            "text/plain": [
              "{1: 'age_s1',\n",
              " 2: 'hip',\n",
              " 3: 'neck20',\n",
              " 4: 'waist',\n",
              " 5: 'av_weight_kg',\n",
              " 6: 'cgpkyr',\n",
              " 7: 'tea15',\n",
              " 8: 'srhype',\n",
              " 9: 'parrptdiab',\n",
              " 10: 'race_2',\n",
              " 11: 'race_3',\n",
              " 12: 'educat_2',\n",
              " 13: 'educat_3',\n",
              " 14: 'educat_4',\n",
              " 15: 'mstat_2',\n",
              " 16: 'mstat_3',\n",
              " 17: 'mstat_4',\n",
              " 18: 'mstat_8',\n",
              " 19: 'bend25_2',\n",
              " 20: 'bend25_3',\n",
              " 21: 'happy25_2',\n",
              " 22: 'happy25_3',\n",
              " 23: 'happy25_4',\n",
              " 24: 'happy25_5',\n",
              " 25: 'happy25_6',\n",
              " 26: 'tired25_2',\n",
              " 27: 'tired25_3',\n",
              " 28: 'tired25_4',\n",
              " 29: 'tired25_5',\n",
              " 30: 'tired25_6',\n",
              " 31: 'hlthlm25_2',\n",
              " 32: 'hlthlm25_3',\n",
              " 33: 'hlthlm25_4',\n",
              " 34: 'hlthlm25_5'}"
            ]
          },
          "metadata": {
            "tags": []
          },
          "execution_count": 49
        }
      ]
    }
  ]
}